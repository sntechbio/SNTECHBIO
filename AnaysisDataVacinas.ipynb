{
  "nbformat": 4,
  "nbformat_minor": 0,
  "metadata": {
    "colab": {
      "name": "AnaysisDataVacinas.ipynb",
      "provenance": [],
      "mount_file_id": "1p1P2HXHhcwihn-fvw-3rvbQrpNfFxrP0",
      "authorship_tag": "ABX9TyN1W6GufV4+5cHSlLB5edwB",
      "include_colab_link": true
    },
    "kernelspec": {
      "name": "python3",
      "display_name": "Python 3"
    },
    "language_info": {
      "name": "python"
    }
  },
  "cells": [
    {
      "cell_type": "markdown",
      "metadata": {
        "id": "view-in-github",
        "colab_type": "text"
      },
      "source": [
        "<a href=\"https://colab.research.google.com/github/sntechbio/SNTECHBIO/blob/master/AnaysisDataVacinas.ipynb\" target=\"_parent\"><img src=\"https://colab.research.google.com/assets/colab-badge.svg\" alt=\"Open In Colab\"/></a>"
      ]
    },
    {
      "cell_type": "code",
      "metadata": {
        "id": "nqVWbRHBgjDN"
      },
      "source": [
        ""
      ],
      "execution_count": null,
      "outputs": []
    },
    {
      "cell_type": "code",
      "metadata": {
        "id": "1mtDZvwpreSP"
      },
      "source": [
        "import seaborn as sns"
      ],
      "execution_count": 29,
      "outputs": []
    },
    {
      "cell_type": "code",
      "metadata": {
        "id": "BmJw_2edrk4A"
      },
      "source": [
        "sns.set()"
      ],
      "execution_count": 31,
      "outputs": []
    },
    {
      "cell_type": "markdown",
      "metadata": {
        "id": "VBJzeSXDhQWb"
      },
      "source": [
        "**Dados de Vacinação OpenDataSUS**\n",
        "\n",
        "https://opendatasus.saude.gov.br/dataset/covid-19-vacinacao/resource/ef3bd0b8-b605-474b-9ae5-c97390c197a8"
      ]
    },
    {
      "cell_type": "markdown",
      "metadata": {
        "id": "jMUBozt1hQTs"
      },
      "source": [
        ""
      ]
    },
    {
      "cell_type": "code",
      "metadata": {
        "id": "cUmGp8sphIb-",
        "colab": {
          "base_uri": "https://localhost:8080/"
        },
        "outputId": "17b78f03-baf6-487c-82cc-3c90e83a75af"
      },
      "source": [
        "!wget -P \"/home/vacina-covid\" https://s3-sa-east-1.amazonaws.com/ckan.saude.gov.br/PNI/vacina/uf/2021-04-24/uf%3DAM/part-00000-5bff8028-67f4-4b92-9914-e0d31a0adf3c.c000.csv"
      ],
      "execution_count": 6,
      "outputs": [
        {
          "output_type": "stream",
          "text": [
            "--2021-04-24 20:38:19--  https://s3-sa-east-1.amazonaws.com/ckan.saude.gov.br/PNI/vacina/uf/2021-04-24/uf%3DAM/part-00000-5bff8028-67f4-4b92-9914-e0d31a0adf3c.c000.csv\n",
            "Resolving s3-sa-east-1.amazonaws.com (s3-sa-east-1.amazonaws.com)... 52.95.163.35\n",
            "Connecting to s3-sa-east-1.amazonaws.com (s3-sa-east-1.amazonaws.com)|52.95.163.35|:443... connected.\n",
            "HTTP request sent, awaiting response... 200 OK\n",
            "Length: 363641587 (347M) [text/csv]\n",
            "Saving to: ‘/home/vacina-covid/part-00000-5bff8028-67f4-4b92-9914-e0d31a0adf3c.c000.csv’\n",
            "\n",
            "part-00000-5bff8028 100%[===================>] 346.79M  25.4MB/s    in 15s     \n",
            "\n",
            "2021-04-24 20:38:34 (23.3 MB/s) - ‘/home/vacina-covid/part-00000-5bff8028-67f4-4b92-9914-e0d31a0adf3c.c000.csv’ saved [363641587/363641587]\n",
            "\n"
          ],
          "name": "stdout"
        }
      ]
    },
    {
      "cell_type": "code",
      "metadata": {
        "id": "jkiFXHzSkiIV"
      },
      "source": [
        "import pandas as pd"
      ],
      "execution_count": 7,
      "outputs": []
    },
    {
      "cell_type": "code",
      "metadata": {
        "id": "-y1M9i40m2Wf"
      },
      "source": [
        "df = pd.read_csv('/content/part-00000-5bff8028-67f4-4b92-9914-e0d31a0adf3c.c000.csv', sep=';')"
      ],
      "execution_count": 94,
      "outputs": []
    },
    {
      "cell_type": "code",
      "metadata": {
        "colab": {
          "base_uri": "https://localhost:8080/"
        },
        "id": "WQgLmmY6niVW",
        "outputId": "5292e0e8-e723-4554-84ef-aa35baff3fd8"
      },
      "source": [
        "df.info()"
      ],
      "execution_count": 12,
      "outputs": [
        {
          "output_type": "stream",
          "text": [
            "<class 'pandas.core.frame.DataFrame'>\n",
            "RangeIndex: 682321 entries, 0 to 682320\n",
            "Data columns (total 34 columns):\n",
            " #   Column                                    Non-Null Count   Dtype  \n",
            "---  ------                                    --------------   -----  \n",
            " 0   document_id                               682321 non-null  object \n",
            " 1   paciente_id                               682321 non-null  object \n",
            " 2   paciente_idade                            682321 non-null  int64  \n",
            " 3   paciente_dataNascimento                   682321 non-null  object \n",
            " 4   paciente_enumSexoBiologico                682321 non-null  object \n",
            " 5   paciente_racaCor_codigo                   682321 non-null  int64  \n",
            " 6   paciente_racaCor_valor                    682321 non-null  object \n",
            " 7   paciente_endereco_coIbgeMunicipio         675216 non-null  float64\n",
            " 8   paciente_endereco_coPais                  675259 non-null  float64\n",
            " 9   paciente_endereco_nmMunicipio             675238 non-null  object \n",
            " 10  paciente_endereco_nmPais                  675259 non-null  object \n",
            " 11  paciente_endereco_uf                      675216 non-null  object \n",
            " 12  paciente_endereco_cep                     556241 non-null  float64\n",
            " 13  paciente_nacionalidade_enumNacionalidade  681911 non-null  object \n",
            " 14  estabelecimento_valor                     682321 non-null  int64  \n",
            " 15  estabelecimento_razaoSocial               682321 non-null  object \n",
            " 16  estalecimento_noFantasia                  682321 non-null  object \n",
            " 17  estabelecimento_municipio_codigo          682321 non-null  int64  \n",
            " 18  estabelecimento_municipio_nome            682321 non-null  object \n",
            " 19  estabelecimento_uf                        682321 non-null  object \n",
            " 20  vacina_grupoAtendimento_codigo            682321 non-null  int64  \n",
            " 21  vacina_grupoAtendimento_nome              667865 non-null  object \n",
            " 22  vacina_categoria_codigo                   667865 non-null  float64\n",
            " 23  vacina_categoria_nome                     667865 non-null  object \n",
            " 24  vacina_lote                               682321 non-null  object \n",
            " 25  vacina_fabricante_nome                    682321 non-null  object \n",
            " 26  vacina_fabricante_referencia              257637 non-null  object \n",
            " 27  vacina_dataAplicacao                      682321 non-null  object \n",
            " 28  vacina_descricao_dose                     682321 non-null  object \n",
            " 29  vacina_codigo                             682321 non-null  int64  \n",
            " 30  vacina_nome                               682321 non-null  object \n",
            " 31  sistema_origem                            682321 non-null  object \n",
            " 32  data_importacao_rnds                      682321 non-null  object \n",
            " 33  id_sistema_origem                         682321 non-null  int64  \n",
            "dtypes: float64(4), int64(7), object(23)\n",
            "memory usage: 177.0+ MB\n"
          ],
          "name": "stdout"
        }
      ]
    },
    {
      "cell_type": "code",
      "metadata": {
        "colab": {
          "base_uri": "https://localhost:8080/",
          "height": 376
        },
        "id": "g8a112PcnoZt",
        "outputId": "ae63251f-f1e2-4a91-d1c8-7356ad9d3664"
      },
      "source": [
        "df.paciente_racaCor_valor.value_counts(normalize=True).plot(kind='bar')"
      ],
      "execution_count": 32,
      "outputs": [
        {
          "output_type": "execute_result",
          "data": {
            "text/plain": [
              "<matplotlib.axes._subplots.AxesSubplot at 0x7f5f36928250>"
            ]
          },
          "metadata": {
            "tags": []
          },
          "execution_count": 32
        },
        {
          "output_type": "display_data",
          "data": {
            "image/png": "[encoded data removed]",
            "text/plain": [
              "<Figure size 432x288 with 1 Axes>"
            ]
          },
          "metadata": {
            "tags": []
          }
        }
      ]
    },
    {
      "cell_type": "code",
      "metadata": {
        "colab": {
          "base_uri": "https://localhost:8080/"
        },
        "id": "p_DgUZhooPXQ",
        "outputId": "0d24a26c-84b6-4ef9-a5d1-ca8f1a5c1095"
      },
      "source": [
        "df.estabelecimento_razaoSocial.value_counts(normalize=True)"
      ],
      "execution_count": 28,
      "outputs": [
        {
          "output_type": "execute_result",
          "data": {
            "text/plain": [
              "MANAUS SECRETARIA MUNICIPAL DE SAUDE                      0.544024\n",
              "MINISTERIO DA SAUDE                                       0.043759\n",
              "SOCIEDADE PORTUGUESA BENEFICENTE DO AMAZONAS              0.024028\n",
              "PREFEITURA MUNICIPAL DE ITACOATIARA                       0.020149\n",
              "DISTRITO SANITARIO ESPECIAL INDIGENA DO ALTO RIO NEGRO    0.019570\n",
              "                                                            ...   \n",
              "FUNDO MUNICIPAL DE SAUDE                                  0.000073\n",
              "MUNICIPIO DE SAO PAULO DE OLIVENCA                        0.000048\n",
              "PREFEITURA MUNICIPAL DE AMATURA                           0.000040\n",
              "MUNICIPIO DE GUAJARA                                      0.000034\n",
              "PREFEITURA MUNICIPAL DE SAUDE DE IRANDUBA                 0.000001\n",
              "Name: estabelecimento_razaoSocial, Length: 135, dtype: float64"
            ]
          },
          "metadata": {
            "tags": []
          },
          "execution_count": 28
        }
      ]
    },
    {
      "cell_type": "code",
      "metadata": {
        "colab": {
          "base_uri": "https://localhost:8080/"
        },
        "id": "qxNyPHMxo97R",
        "outputId": "41e7710f-8cc1-4251-9baa-5073d26e0190"
      },
      "source": [
        "df.paciente_idade.value_counts(normalize=True)"
      ],
      "execution_count": 36,
      "outputs": [
        {
          "output_type": "execute_result",
          "data": {
            "text/plain": [
              "60     0.047003\n",
              "61     0.046742\n",
              "62     0.045196\n",
              "63     0.037163\n",
              "64     0.028674\n",
              "         ...   \n",
              "113    0.000001\n",
              "5      0.000001\n",
              "114    0.000001\n",
              "1      0.000001\n",
              "126    0.000001\n",
              "Name: paciente_idade, Length: 117, dtype: float64"
            ]
          },
          "metadata": {
            "tags": []
          },
          "execution_count": 36
        }
      ]
    },
    {
      "cell_type": "code",
      "metadata": {
        "colab": {
          "base_uri": "https://localhost:8080/",
          "height": 285
        },
        "id": "XgUlYhzxpbPN",
        "outputId": "70cb7921-ffac-44ef-da5c-f8b42f83de46"
      },
      "source": [
        "df.vacina_fabricante_nome.value_counts(normalize=True).plot(kind='barh')"
      ],
      "execution_count": 93,
      "outputs": [
        {
          "output_type": "execute_result",
          "data": {
            "text/plain": [
              "<matplotlib.axes._subplots.AxesSubplot at 0x7f5f2cdc4ad0>"
            ]
          },
          "metadata": {
            "tags": []
          },
          "execution_count": 93
        },
        {
          "output_type": "display_data",
          "data": {
            "image/png": "[encoded data removed]",
            "text/plain": [
              "<Figure size 432x288 with 1 Axes>"
            ]
          },
          "metadata": {
            "tags": []
          }
        }
      ]
    },
    {
      "cell_type": "code",
      "metadata": {
        "colab": {
          "base_uri": "https://localhost:8080/",
          "height": 478
        },
        "id": "9d0DGFWVqNE2",
        "outputId": "50cf8ded-cb2f-4355-cd71-fa275712187d"
      },
      "source": [
        "df.describe(include='all')"
      ],
      "execution_count": 24,
      "outputs": [
        {
          "output_type": "execute_result",
          "data": {
            "text/html": [
              "<div>\n",
              "<style scoped>\n",
              "    .dataframe tbody tr th:only-of-type {\n",
              "        vertical-align: middle;\n",
              "    }\n",
              "\n",
              "    .dataframe tbody tr th {\n",
              "        vertical-align: top;\n",
              "    }\n",
              "\n",
              "    .dataframe thead th {\n",
              "        text-align: right;\n",
              "    }\n",
              "</style>\n",
              "<table border=\"1\" class=\"dataframe\">\n",
              "  <thead>\n",
              "    <tr style=\"text-align: right;\">\n",
              "      <th></th>\n",
              "      <th>document_id</th>\n",
              "      <th>paciente_id</th>\n",
              "      <th>paciente_idade</th>\n",
              "      <th>paciente_dataNascimento</th>\n",
              "      <th>paciente_enumSexoBiologico</th>\n",
              "      <th>paciente_racaCor_codigo</th>\n",
              "      <th>paciente_racaCor_valor</th>\n",
              "      <th>paciente_endereco_coIbgeMunicipio</th>\n",
              "      <th>paciente_endereco_coPais</th>\n",
              "      <th>paciente_endereco_nmMunicipio</th>\n",
              "      <th>paciente_endereco_nmPais</th>\n",
              "      <th>paciente_endereco_uf</th>\n",
              "      <th>paciente_endereco_cep</th>\n",
              "      <th>paciente_nacionalidade_enumNacionalidade</th>\n",
              "      <th>estabelecimento_valor</th>\n",
              "      <th>estabelecimento_razaoSocial</th>\n",
              "      <th>estalecimento_noFantasia</th>\n",
              "      <th>estabelecimento_municipio_codigo</th>\n",
              "      <th>estabelecimento_municipio_nome</th>\n",
              "      <th>estabelecimento_uf</th>\n",
              "      <th>vacina_grupoAtendimento_codigo</th>\n",
              "      <th>vacina_grupoAtendimento_nome</th>\n",
              "      <th>vacina_categoria_codigo</th>\n",
              "      <th>vacina_categoria_nome</th>\n",
              "      <th>vacina_lote</th>\n",
              "      <th>vacina_fabricante_nome</th>\n",
              "      <th>vacina_fabricante_referencia</th>\n",
              "      <th>vacina_dataAplicacao</th>\n",
              "      <th>vacina_descricao_dose</th>\n",
              "      <th>vacina_codigo</th>\n",
              "      <th>vacina_nome</th>\n",
              "      <th>sistema_origem</th>\n",
              "      <th>data_importacao_rnds</th>\n",
              "      <th>id_sistema_origem</th>\n",
              "    </tr>\n",
              "  </thead>\n",
              "  <tbody>\n",
              "    <tr>\n",
              "      <th>count</th>\n",
              "      <td>682321</td>\n",
              "      <td>682321</td>\n",
              "      <td>682321.00000</td>\n",
              "      <td>682321</td>\n",
              "      <td>682321</td>\n",
              "      <td>682321.000000</td>\n",
              "      <td>682321</td>\n",
              "      <td>675216.000000</td>\n",
              "      <td>675259.000000</td>\n",
              "      <td>675238</td>\n",
              "      <td>675259</td>\n",
              "      <td>675216</td>\n",
              "      <td>556241.000000</td>\n",
              "      <td>681911</td>\n",
              "      <td>6.823210e+05</td>\n",
              "      <td>682321</td>\n",
              "      <td>682321</td>\n",
              "      <td>682321.000000</td>\n",
              "      <td>682321</td>\n",
              "      <td>682321</td>\n",
              "      <td>682321.000000</td>\n",
              "      <td>667865</td>\n",
              "      <td>667865.000000</td>\n",
              "      <td>667865</td>\n",
              "      <td>682321</td>\n",
              "      <td>682321</td>\n",
              "      <td>257637</td>\n",
              "      <td>682321</td>\n",
              "      <td>682321</td>\n",
              "      <td>682321.000000</td>\n",
              "      <td>682321</td>\n",
              "      <td>682321</td>\n",
              "      <td>682321</td>\n",
              "      <td>682321.000000</td>\n",
              "    </tr>\n",
              "    <tr>\n",
              "      <th>unique</th>\n",
              "      <td>682245</td>\n",
              "      <td>510994</td>\n",
              "      <td>NaN</td>\n",
              "      <td>29458</td>\n",
              "      <td>2</td>\n",
              "      <td>NaN</td>\n",
              "      <td>6</td>\n",
              "      <td>NaN</td>\n",
              "      <td>NaN</td>\n",
              "      <td>1719</td>\n",
              "      <td>7</td>\n",
              "      <td>28</td>\n",
              "      <td>NaN</td>\n",
              "      <td>3</td>\n",
              "      <td>NaN</td>\n",
              "      <td>135</td>\n",
              "      <td>435</td>\n",
              "      <td>NaN</td>\n",
              "      <td>62</td>\n",
              "      <td>1</td>\n",
              "      <td>NaN</td>\n",
              "      <td>66</td>\n",
              "      <td>NaN</td>\n",
              "      <td>14</td>\n",
              "      <td>81</td>\n",
              "      <td>9</td>\n",
              "      <td>3</td>\n",
              "      <td>188</td>\n",
              "      <td>3</td>\n",
              "      <td>NaN</td>\n",
              "      <td>5</td>\n",
              "      <td>3</td>\n",
              "      <td>228228</td>\n",
              "      <td>NaN</td>\n",
              "    </tr>\n",
              "    <tr>\n",
              "      <th>top</th>\n",
              "      <td>76982ed7-a92c-466b-ad98-b9c0dc25cd10-i0b0</td>\n",
              "      <td>da72b5883d98f5413e002395ef043355660dfed9baa626...</td>\n",
              "      <td>NaN</td>\n",
              "      <td>1960-01-01</td>\n",
              "      <td>F</td>\n",
              "      <td>NaN</td>\n",
              "      <td>PARDA</td>\n",
              "      <td>NaN</td>\n",
              "      <td>NaN</td>\n",
              "      <td>MANAUS</td>\n",
              "      <td>BRASIL</td>\n",
              "      <td>AM</td>\n",
              "      <td>NaN</td>\n",
              "      <td>B</td>\n",
              "      <td>NaN</td>\n",
              "      <td>MANAUS SECRETARIA MUNICIPAL DE SAUDE</td>\n",
              "      <td>USF DR LUIZ MONTENEGRO</td>\n",
              "      <td>NaN</td>\n",
              "      <td>MANAUS</td>\n",
              "      <td>AM</td>\n",
              "      <td>NaN</td>\n",
              "      <td>Pessoas de 60 a 64 anos</td>\n",
              "      <td>NaN</td>\n",
              "      <td>Faixa Etária</td>\n",
              "      <td>202010025</td>\n",
              "      <td>Butantan/Sinovac</td>\n",
              "      <td>Organization/61189445000156</td>\n",
              "      <td>2021-02-08T00:00:00.000Z</td>\n",
              "      <td>1ª Dose</td>\n",
              "      <td>NaN</td>\n",
              "      <td>Covid-19-Coronavac-Sinovac/Butantan</td>\n",
              "      <td>SMV</td>\n",
              "      <td>2021-04-19 20:33:39</td>\n",
              "      <td>NaN</td>\n",
              "    </tr>\n",
              "    <tr>\n",
              "      <th>freq</th>\n",
              "      <td>2</td>\n",
              "      <td>5</td>\n",
              "      <td>NaN</td>\n",
              "      <td>148</td>\n",
              "      <td>370647</td>\n",
              "      <td>NaN</td>\n",
              "      <td>296310</td>\n",
              "      <td>NaN</td>\n",
              "      <td>NaN</td>\n",
              "      <td>391336</td>\n",
              "      <td>675237</td>\n",
              "      <td>648794</td>\n",
              "      <td>NaN</td>\n",
              "      <td>676566</td>\n",
              "      <td>NaN</td>\n",
              "      <td>371199</td>\n",
              "      <td>122889</td>\n",
              "      <td>NaN</td>\n",
              "      <td>408158</td>\n",
              "      <td>682321</td>\n",
              "      <td>NaN</td>\n",
              "      <td>128970</td>\n",
              "      <td>NaN</td>\n",
              "      <td>314557</td>\n",
              "      <td>127832</td>\n",
              "      <td>274554</td>\n",
              "      <td>175597</td>\n",
              "      <td>16175</td>\n",
              "      <td>510692</td>\n",
              "      <td>NaN</td>\n",
              "      <td>463430</td>\n",
              "      <td>402179</td>\n",
              "      <td>18065</td>\n",
              "      <td>NaN</td>\n",
              "    </tr>\n",
              "    <tr>\n",
              "      <th>mean</th>\n",
              "      <td>NaN</td>\n",
              "      <td>NaN</td>\n",
              "      <td>54.30498</td>\n",
              "      <td>NaN</td>\n",
              "      <td>NaN</td>\n",
              "      <td>23.122907</td>\n",
              "      <td>NaN</td>\n",
              "      <td>134003.010524</td>\n",
              "      <td>10.005314</td>\n",
              "      <td>NaN</td>\n",
              "      <td>NaN</td>\n",
              "      <td>NaN</td>\n",
              "      <td>68949.365636</td>\n",
              "      <td>NaN</td>\n",
              "      <td>3.166808e+06</td>\n",
              "      <td>NaN</td>\n",
              "      <td>NaN</td>\n",
              "      <td>130247.463239</td>\n",
              "      <td>NaN</td>\n",
              "      <td>NaN</td>\n",
              "      <td>451.378637</td>\n",
              "      <td>NaN</td>\n",
              "      <td>4.540292</td>\n",
              "      <td>NaN</td>\n",
              "      <td>NaN</td>\n",
              "      <td>NaN</td>\n",
              "      <td>NaN</td>\n",
              "      <td>NaN</td>\n",
              "      <td>NaN</td>\n",
              "      <td>85.694200</td>\n",
              "      <td>NaN</td>\n",
              "      <td>NaN</td>\n",
              "      <td>NaN</td>\n",
              "      <td>17501.300684</td>\n",
              "    </tr>\n",
              "    <tr>\n",
              "      <th>std</th>\n",
              "      <td>NaN</td>\n",
              "      <td>NaN</td>\n",
              "      <td>17.57767</td>\n",
              "      <td>NaN</td>\n",
              "      <td>NaN</td>\n",
              "      <td>38.846472</td>\n",
              "      <td>NaN</td>\n",
              "      <td>30780.014887</td>\n",
              "      <td>1.008633</td>\n",
              "      <td>NaN</td>\n",
              "      <td>NaN</td>\n",
              "      <td>NaN</td>\n",
              "      <td>5257.471310</td>\n",
              "      <td>NaN</td>\n",
              "      <td>2.077503e+06</td>\n",
              "      <td>NaN</td>\n",
              "      <td>NaN</td>\n",
              "      <td>86.129803</td>\n",
              "      <td>NaN</td>\n",
              "      <td>NaN</td>\n",
              "      <td>326.131648</td>\n",
              "      <td>NaN</td>\n",
              "      <td>3.172695</td>\n",
              "      <td>NaN</td>\n",
              "      <td>NaN</td>\n",
              "      <td>NaN</td>\n",
              "      <td>NaN</td>\n",
              "      <td>NaN</td>\n",
              "      <td>NaN</td>\n",
              "      <td>0.507165</td>\n",
              "      <td>NaN</td>\n",
              "      <td>NaN</td>\n",
              "      <td>NaN</td>\n",
              "      <td>906.765757</td>\n",
              "    </tr>\n",
              "    <tr>\n",
              "      <th>min</th>\n",
              "      <td>NaN</td>\n",
              "      <td>NaN</td>\n",
              "      <td>0.00000</td>\n",
              "      <td>NaN</td>\n",
              "      <td>NaN</td>\n",
              "      <td>1.000000</td>\n",
              "      <td>NaN</td>\n",
              "      <td>110001.000000</td>\n",
              "      <td>10.000000</td>\n",
              "      <td>NaN</td>\n",
              "      <td>NaN</td>\n",
              "      <td>NaN</td>\n",
              "      <td>0.000000</td>\n",
              "      <td>NaN</td>\n",
              "      <td>7.089000e+04</td>\n",
              "      <td>NaN</td>\n",
              "      <td>NaN</td>\n",
              "      <td>130002.000000</td>\n",
              "      <td>NaN</td>\n",
              "      <td>NaN</td>\n",
              "      <td>0.000000</td>\n",
              "      <td>NaN</td>\n",
              "      <td>1.000000</td>\n",
              "      <td>NaN</td>\n",
              "      <td>NaN</td>\n",
              "      <td>NaN</td>\n",
              "      <td>NaN</td>\n",
              "      <td>NaN</td>\n",
              "      <td>NaN</td>\n",
              "      <td>85.000000</td>\n",
              "      <td>NaN</td>\n",
              "      <td>NaN</td>\n",
              "      <td>NaN</td>\n",
              "      <td>16341.000000</td>\n",
              "    </tr>\n",
              "    <tr>\n",
              "      <th>25%</th>\n",
              "      <td>NaN</td>\n",
              "      <td>NaN</td>\n",
              "      <td>40.00000</td>\n",
              "      <td>NaN</td>\n",
              "      <td>NaN</td>\n",
              "      <td>3.000000</td>\n",
              "      <td>NaN</td>\n",
              "      <td>130260.000000</td>\n",
              "      <td>10.000000</td>\n",
              "      <td>NaN</td>\n",
              "      <td>NaN</td>\n",
              "      <td>NaN</td>\n",
              "      <td>69053.000000</td>\n",
              "      <td>NaN</td>\n",
              "      <td>2.013916e+06</td>\n",
              "      <td>NaN</td>\n",
              "      <td>NaN</td>\n",
              "      <td>130260.000000</td>\n",
              "      <td>NaN</td>\n",
              "      <td>NaN</td>\n",
              "      <td>201.000000</td>\n",
              "      <td>NaN</td>\n",
              "      <td>2.000000</td>\n",
              "      <td>NaN</td>\n",
              "      <td>NaN</td>\n",
              "      <td>NaN</td>\n",
              "      <td>NaN</td>\n",
              "      <td>NaN</td>\n",
              "      <td>NaN</td>\n",
              "      <td>85.000000</td>\n",
              "      <td>NaN</td>\n",
              "      <td>NaN</td>\n",
              "      <td>NaN</td>\n",
              "      <td>16341.000000</td>\n",
              "    </tr>\n",
              "    <tr>\n",
              "      <th>50%</th>\n",
              "      <td>NaN</td>\n",
              "      <td>NaN</td>\n",
              "      <td>60.00000</td>\n",
              "      <td>NaN</td>\n",
              "      <td>NaN</td>\n",
              "      <td>3.000000</td>\n",
              "      <td>NaN</td>\n",
              "      <td>130260.000000</td>\n",
              "      <td>10.000000</td>\n",
              "      <td>NaN</td>\n",
              "      <td>NaN</td>\n",
              "      <td>NaN</td>\n",
              "      <td>69093.000000</td>\n",
              "      <td>NaN</td>\n",
              "      <td>2.016702e+06</td>\n",
              "      <td>NaN</td>\n",
              "      <td>NaN</td>\n",
              "      <td>130260.000000</td>\n",
              "      <td>NaN</td>\n",
              "      <td>NaN</td>\n",
              "      <td>204.000000</td>\n",
              "      <td>NaN</td>\n",
              "      <td>2.000000</td>\n",
              "      <td>NaN</td>\n",
              "      <td>NaN</td>\n",
              "      <td>NaN</td>\n",
              "      <td>NaN</td>\n",
              "      <td>NaN</td>\n",
              "      <td>NaN</td>\n",
              "      <td>86.000000</td>\n",
              "      <td>NaN</td>\n",
              "      <td>NaN</td>\n",
              "      <td>NaN</td>\n",
              "      <td>18183.000000</td>\n",
              "    </tr>\n",
              "    <tr>\n",
              "      <th>75%</th>\n",
              "      <td>NaN</td>\n",
              "      <td>NaN</td>\n",
              "      <td>66.00000</td>\n",
              "      <td>NaN</td>\n",
              "      <td>NaN</td>\n",
              "      <td>5.000000</td>\n",
              "      <td>NaN</td>\n",
              "      <td>130260.000000</td>\n",
              "      <td>10.000000</td>\n",
              "      <td>NaN</td>\n",
              "      <td>NaN</td>\n",
              "      <td>NaN</td>\n",
              "      <td>69415.000000</td>\n",
              "      <td>NaN</td>\n",
              "      <td>3.441784e+06</td>\n",
              "      <td>NaN</td>\n",
              "      <td>NaN</td>\n",
              "      <td>130260.000000</td>\n",
              "      <td>NaN</td>\n",
              "      <td>NaN</td>\n",
              "      <td>701.000000</td>\n",
              "      <td>NaN</td>\n",
              "      <td>8.000000</td>\n",
              "      <td>NaN</td>\n",
              "      <td>NaN</td>\n",
              "      <td>NaN</td>\n",
              "      <td>NaN</td>\n",
              "      <td>NaN</td>\n",
              "      <td>NaN</td>\n",
              "      <td>86.000000</td>\n",
              "      <td>NaN</td>\n",
              "      <td>NaN</td>\n",
              "      <td>NaN</td>\n",
              "      <td>18183.000000</td>\n",
              "    </tr>\n",
              "    <tr>\n",
              "      <th>max</th>\n",
              "      <td>NaN</td>\n",
              "      <td>NaN</td>\n",
              "      <td>126.00000</td>\n",
              "      <td>NaN</td>\n",
              "      <td>NaN</td>\n",
              "      <td>99.000000</td>\n",
              "      <td>NaN</td>\n",
              "      <td>999999.000000</td>\n",
              "      <td>221.000000</td>\n",
              "      <td>NaN</td>\n",
              "      <td>NaN</td>\n",
              "      <td>NaN</td>\n",
              "      <td>99999.000000</td>\n",
              "      <td>NaN</td>\n",
              "      <td>9.820086e+06</td>\n",
              "      <td>NaN</td>\n",
              "      <td>NaN</td>\n",
              "      <td>130440.000000</td>\n",
              "      <td>NaN</td>\n",
              "      <td>NaN</td>\n",
              "      <td>1601.000000</td>\n",
              "      <td>NaN</td>\n",
              "      <td>16.000000</td>\n",
              "      <td>NaN</td>\n",
              "      <td>NaN</td>\n",
              "      <td>NaN</td>\n",
              "      <td>NaN</td>\n",
              "      <td>NaN</td>\n",
              "      <td>NaN</td>\n",
              "      <td>89.000000</td>\n",
              "      <td>NaN</td>\n",
              "      <td>NaN</td>\n",
              "      <td>NaN</td>\n",
              "      <td>18602.000000</td>\n",
              "    </tr>\n",
              "  </tbody>\n",
              "</table>\n",
              "</div>"
            ],
            "text/plain": [
              "                                      document_id  ... id_sistema_origem\n",
              "count                                      682321  ...     682321.000000\n",
              "unique                                     682245  ...               NaN\n",
              "top     76982ed7-a92c-466b-ad98-b9c0dc25cd10-i0b0  ...               NaN\n",
              "freq                                            2  ...               NaN\n",
              "mean                                          NaN  ...      17501.300684\n",
              "std                                           NaN  ...        906.765757\n",
              "min                                           NaN  ...      16341.000000\n",
              "25%                                           NaN  ...      16341.000000\n",
              "50%                                           NaN  ...      18183.000000\n",
              "75%                                           NaN  ...      18183.000000\n",
              "max                                           NaN  ...      18602.000000\n",
              "\n",
              "[11 rows x 34 columns]"
            ]
          },
          "metadata": {
            "tags": []
          },
          "execution_count": 24
        }
      ]
    },
    {
      "cell_type": "code",
      "metadata": {
        "colab": {
          "base_uri": "https://localhost:8080/",
          "height": 284
        },
        "id": "8aITFSPcr4uk",
        "outputId": "ddcfe3fd-3f21-4785-8856-14589bcc57af"
      },
      "source": [
        "df.paciente_enumSexoBiologico.value_counts().plot(kind='bar')"
      ],
      "execution_count": 46,
      "outputs": [
        {
          "output_type": "execute_result",
          "data": {
            "text/plain": [
              "<matplotlib.axes._subplots.AxesSubplot at 0x7f5f36667990>"
            ]
          },
          "metadata": {
            "tags": []
          },
          "execution_count": 46
        },
        {
          "output_type": "display_data",
          "data": {
            "image/png": "[encoded data removed]",
            "text/plain": [
              "<Figure size 432x288 with 1 Axes>"
            ]
          },
          "metadata": {
            "tags": []
          }
        }
      ]
    },
    {
      "cell_type": "code",
      "metadata": {
        "id": "NtptdSxrsafL"
      },
      "source": [
        "df.vacina_dataAplicacao = pd.to_datetime(df.vacina_dataAplicacao)"
      ],
      "execution_count": 78,
      "outputs": []
    },
    {
      "cell_type": "markdown",
      "metadata": {
        "id": "W_EBf4erxBpN"
      },
      "source": [
        ""
      ]
    },
    {
      "cell_type": "code",
      "metadata": {
        "id": "I0XrWHjytPbn"
      },
      "source": [
        "df['vacina_dataAplicacao']= df.vacina_dataAplicacao.dt.date"
      ],
      "execution_count": 79,
      "outputs": []
    },
    {
      "cell_type": "code",
      "metadata": {
        "colab": {
          "base_uri": "https://localhost:8080/"
        },
        "id": "d09gR3cVugvx",
        "outputId": "bafee2a5-bb4b-478a-8c04-8183677003a3"
      },
      "source": [
        "df.vacina_dataAplicacao.value_counts()"
      ],
      "execution_count": 80,
      "outputs": [
        {
          "output_type": "execute_result",
          "data": {
            "text/plain": [
              "2021-02-09    19602\n",
              "2021-02-08    18262\n",
              "2021-03-03    17785\n",
              "2021-03-05    17480\n",
              "2021-03-04    16710\n",
              "              ...  \n",
              "2021-01-17       13\n",
              "2021-04-23       13\n",
              "2021-01-18        7\n",
              "2021-01-08        3\n",
              "2021-01-01        1\n",
              "Name: vacina_dataAplicacao, Length: 100, dtype: int64"
            ]
          },
          "metadata": {
            "tags": []
          },
          "execution_count": 80
        }
      ]
    },
    {
      "cell_type": "code",
      "metadata": {
        "id": "ZBzB0fe4wAtD"
      },
      "source": [
        "df.vacina_dataAplicacao = pd.to_datetime(df.vacina_dataAplicacao)"
      ],
      "execution_count": 95,
      "outputs": []
    },
    {
      "cell_type": "code",
      "metadata": {
        "colab": {
          "base_uri": "https://localhost:8080/",
          "height": 306
        },
        "id": "AP0PAcOyyR7_",
        "outputId": "57ad2089-9ff8-4086-d250-510bd2db62b2"
      },
      "source": [
        "df.groupby(['vacina_dataAplicacao_weekofyear']).agg({'paciente_id':'count'}).plot(kind=)"
      ],
      "execution_count": 91,
      "outputs": [
        {
          "output_type": "execute_result",
          "data": {
            "text/plain": [
              "<matplotlib.axes._subplots.AxesSubplot at 0x7f5f32647ed0>"
            ]
          },
          "metadata": {
            "tags": []
          },
          "execution_count": 91
        },
        {
          "output_type": "display_data",
          "data": {
            "image/png": "[encoded data removed]",
            "text/plain": [
              "<Figure size 432x288 with 1 Axes>"
            ]
          },
          "metadata": {
            "tags": []
          }
        }
      ]
    },
    {
      "cell_type": "code",
      "metadata": {
        "colab": {
          "base_uri": "https://localhost:8080/",
          "height": 299
        },
        "id": "pThA7jMty8Dg",
        "outputId": "a8ad11a4-093a-4f76-85be-23af015a9a7a"
      },
      "source": [
        "df.groupby(['vacina_dataAplicacao_month', 'vacina_fabricante_nome']).agg({'paciente_id':'count'}).unstack().plot(kind='bar',legend=False)"
      ],
      "execution_count": 106,
      "outputs": [
        {
          "output_type": "execute_result",
          "data": {
            "text/plain": [
              "<matplotlib.axes._subplots.AxesSubplot at 0x7f5f200ade90>"
            ]
          },
          "metadata": {
            "tags": []
          },
          "execution_count": 106
        },
        {
          "output_type": "display_data",
          "data": {
            "image/png": "[encoded data removed]",
            "text/plain": [
              "<Figure size 432x288 with 1 Axes>"
            ]
          },
          "metadata": {
            "tags": []
          }
        }
      ]
    },
    {
      "cell_type": "code",
      "metadata": {
        "colab": {
          "base_uri": "https://localhost:8080/",
          "height": 285
        },
        "id": "5MRCvnna2clq",
        "outputId": "e63b079b-1773-4215-a1d0-e9eb96f25c54"
      },
      "source": [
        "df['vacina_descricao_dose'].value_counts().plot(kind='barh')"
      ],
      "execution_count": 110,
      "outputs": [
        {
          "output_type": "execute_result",
          "data": {
            "text/plain": [
              "<matplotlib.axes._subplots.AxesSubplot at 0x7f5f1ffee050>"
            ]
          },
          "metadata": {
            "tags": []
          },
          "execution_count": 110
        },
        {
          "output_type": "display_data",
          "data": {
            "image/png": "[encoded data removed]",
            "text/plain": [
              "<Figure size 432x288 with 1 Axes>"
            ]
          },
          "metadata": {
            "tags": []
          }
        }
      ]
    }
  ]
}